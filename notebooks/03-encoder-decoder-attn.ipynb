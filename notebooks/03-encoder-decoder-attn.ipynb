{
 "cells": [
  {
   "cell_type": "markdown",
   "metadata": {},
   "source": [
    "# The annotated encoder-decoer with attention\n",
    "\n",
    "Based on [this blog](https://bastings.github.io/annotated_encoder_decoder/)"
   ]
  },
  {
   "cell_type": "markdown",
   "metadata": {},
   "source": [
    "Consider an input sequence $X=(x_1, ..., x_M)$ and a target sequence $Y=(y_1, ..., y_N)$. We will model the probability $p(Y|X)$ directly with a neural network: an encoder-decoder.\n",
    "\n",
    "<img src=\"../figures/enc.jpg\">"
   ]
  },
  {
   "cell_type": "markdown",
   "metadata": {},
   "source": [
    "## Encoder\n",
    "\n",
    "The encoder reads in the source sentence (bottom of above figure) and produces a sequence of hidden states $\\mathbf{h_1,...,h_M}$ for each input word. These hidden states should capture the meaning of a word **in its context** given the sentence. Use a Bi-GRU as the encoder.\n",
    "\n",
    "We first embed the source words: each source word's embedding is denoted as a vector $\\mathbf{x}_i$. Using an embedding allows us to exploit the fact that certain words are semantically similar, and should therefore be processed in a similar way by having close embedding vectors.\n",
    "\n",
    "We obtain the hidden states $\\mathbf{h_1,...,h_M}$ from the recursive formula\n",
    "$$\\mathbf{h}_j = GRU(\\mathbf{x}_j, \\mathbf{h}_{j-1})$$\n",
    "for a forward GRU. A backward GRU reads from right-to-left instead of left-to-right. We therefore obtain two hidden state vectors for each word. Concatenating the two hidden states together allows us to obtain a local context for each word."
   ]
  },
  {
   "cell_type": "markdown",
   "metadata": {},
   "source": [
    "## Decoder\n",
    "\n",
    "The decoder is also a GRU with hidden state $\\mathbf{s}_i$. It follows a similar formula to the encoder, but takes one extra input $\\mathbf{c}_i$ (shown in yellow) called the **context**\n",
    "$$\\mathbf{s}_i = f(\\mathbf{s}_{i-1}, \\mathbf{y}_{i-1}, \\mathbf{c}_{i})$$\n",
    "where $\\mathbf{y}_{i-1}$ is the embedding for the previously generated target word.\n",
    "\n",
    "At each time step, an **attention mechanism** dynamically selects the part of the source sentence that is most relevant for predicting the current target word. It does so by comparing the last decoder state  with each source hidden state (**TODO: FILL IN MATHS**)\n",
    "\n",
    "After computing the decoder state $\\mathbf{s}_i$, a non-linear function $g$ (softmax) gives us the probability of the target word $y_i$ for this time step:\n",
    "$$p(y_i|y_{<i},x_1^M) = g(\\mathbf{s}_{i-1}, \\mathbf{y}_{i-1}, \\mathbf{c}_{i})$$"
   ]
  },
  {
   "cell_type": "markdown",
   "metadata": {},
   "source": [
    "## Attention\n",
    "\n",
    "At every time step, the decoder has access to **all** source word representations $\\mathbf{h}_1, ..., \\mathbf{h}_M$. An attention mechanism allows the model to focus on the currently most relevant part of the source sentence. \n",
    "\n",
    "The attention mechanism takes as input the current state of the decoder $\\mathbf{s}_i$, and $(\\mathbf{h}_1, ..., \\mathbf{h}_M)$. We apply a multilayer perceptron to both the current decoder state $\\mathbf{s}_i$ (the **query**) and each encoder state $\\mathbf{h}_j$ (the **key**), and then project this to a scalar to get the **attention energy** $e_{ij}$. \n",
    "\n",
    "We then normalize the attention energies using a softmax\n",
    "$$\\alpha_{ij} = \\mathrm{softmax}(\\mathbf{e}_i)[j]$$\n",
    "The context vector at time step $i$ is then a weighted sum of the encoder hidden states (the **values**)\n",
    "$$\\mathbf{c}_i = \\sum_j \\alpha_{ij} \\mathbf{h}_j$$\n",
    "\n",
    "<img src=\"../figures/bahdanau.jpg\">"
   ]
  },
  {
   "cell_type": "markdown",
   "metadata": {},
   "source": [
    "## The model"
   ]
  },
  {
   "cell_type": "code",
   "execution_count": 1,
   "metadata": {},
   "outputs": [],
   "source": [
    "import sys\n",
    "sys.path.append('../src')"
   ]
  },
  {
   "cell_type": "code",
   "execution_count": 2,
   "metadata": {},
   "outputs": [],
   "source": [
    "from seq.enc_dec_attn.synth import train_copy_task, plot_perplexity"
   ]
  },
  {
   "cell_type": "code",
   "execution_count": 3,
   "metadata": {},
   "outputs": [
    {
     "name": "stderr",
     "output_type": "stream",
     "text": [
      "C:\\Users\\jarya\\miniconda3\\envs\\sequence-models\\lib\\site-packages\\torch\\nn\\modules\\rnn.py:62: UserWarning: dropout option adds dropout after all but last recurrent layer, so non-zero dropout expects num_layers greater than 1, but got dropout=0.1 and num_layers=1\n",
      "  warnings.warn(\"dropout option adds dropout after all but last \"\n"
     ]
    },
    {
     "name": "stdout",
     "output_type": "stream",
     "text": [
      "Epoch 0\n",
      "Epoch step: 50 Loss: (19.88688087463379, 11352.967029992573)\n",
      "Epoch step: 100 Loss: (18.266408920288086, 11688.563963453824)\n",
      "Evaluation perplexity: 7.207996\n",
      "\n",
      "Example #1\n",
      "Src :  3 6 2 8 3 1 9 8 4\n",
      "Trg :  3 6 2 8 3 1 9 8 4\n",
      "Pred:  3 3 3 3 3 3 3 8 3\n",
      "\n",
      "Example #2\n",
      "Src :  7 4 4 4 4 4 8 5 1\n",
      "Trg :  7 4 4 4 4 4 8 5 1\n",
      "Pred:  4 4 4 4 4 4 4 4 4\n",
      "\n",
      "Epoch 1\n",
      "Epoch step: 50 Loss: (15.506646156311035, 11764.93068392767)\n",
      "Epoch step: 100 Loss: (13.004790306091309, 11697.061828207403)\n",
      "Evaluation perplexity: 3.788299\n",
      "\n",
      "Example #1\n",
      "Src :  3 6 2 8 3 1 9 8 4\n",
      "Trg :  3 6 2 8 3 1 9 8 4\n",
      "Pred:  3 6 3 8 3 8 4 9 8\n",
      "\n",
      "Example #2\n",
      "Src :  7 4 4 4 4 4 8 5 1\n",
      "Trg :  7 4 4 4 4 4 8 5 1\n",
      "Pred:  4 4 4 7 4 4 4 4 7\n",
      "\n",
      "Epoch 2\n",
      "Epoch step: 50 Loss: (8.92684555053711, 11532.002971690466)\n",
      "Epoch step: 100 Loss: (5.992276668548584, 12429.789935690147)\n",
      "Evaluation perplexity: 1.877379\n",
      "\n",
      "Example #1\n",
      "Src :  3 6 2 8 3 1 9 8 4\n",
      "Trg :  3 6 2 8 3 1 9 8 4\n",
      "Pred:  3 6 3 8 2 8 9 4 1\n",
      "\n",
      "Example #2\n",
      "Src :  7 4 4 4 4 4 8 5 1\n",
      "Trg :  7 4 4 4 4 4 8 5 1\n",
      "Pred:  4 7 4 4 4 8 5 4 1\n",
      "\n",
      "Epoch 3\n",
      "Epoch step: 50 Loss: (3.7373642921447754, 10796.936713531231)\n",
      "Epoch step: 100 Loss: (1.8686825037002563, 11768.456363284928)\n",
      "Evaluation perplexity: 1.208086\n",
      "\n",
      "Example #1\n",
      "Src :  3 6 2 8 3 1 9 8 4\n",
      "Trg :  3 6 2 8 3 1 9 8 4\n",
      "Pred:  3 6 2 8 3 1 9 8 4\n",
      "\n",
      "Example #2\n",
      "Src :  7 4 4 4 4 4 8 5 1\n",
      "Trg :  7 4 4 4 4 4 8 5 1\n",
      "Pred:  7 4 4 4 4 4 8 5 1\n",
      "\n",
      "Epoch 4\n",
      "Epoch step: 50 Loss: (1.404342770576477, 11282.953557696026)\n",
      "Epoch step: 100 Loss: (0.7881401181221008, 11054.951832474533)\n",
      "Evaluation perplexity: 1.071059\n",
      "\n",
      "Example #1\n",
      "Src :  3 6 2 8 3 1 9 8 4\n",
      "Trg :  3 6 2 8 3 1 9 8 4\n",
      "Pred:  3 6 2 8 3 1 9 8 4\n",
      "\n",
      "Example #2\n",
      "Src :  7 4 4 4 4 4 8 5 1\n",
      "Trg :  7 4 4 4 4 4 8 5 1\n",
      "Pred:  7 4 4 4 4 4 8 5 1\n",
      "\n",
      "Epoch 5\n",
      "Epoch step: 50 Loss: (0.43084341287612915, 11471.199790928484)\n",
      "Epoch step: 100 Loss: (0.3920286297798157, 11794.581809490035)\n",
      "Evaluation perplexity: 1.030033\n",
      "\n",
      "Example #1\n",
      "Src :  3 6 2 8 3 1 9 8 4\n",
      "Trg :  3 6 2 8 3 1 9 8 4\n",
      "Pred:  3 6 2 8 3 1 9 8 4\n",
      "\n",
      "Example #2\n",
      "Src :  7 4 4 4 4 4 8 5 1\n",
      "Trg :  7 4 4 4 4 4 8 5 1\n",
      "Pred:  7 4 4 4 4 4 8 5 1\n",
      "\n",
      "Epoch 6\n",
      "Epoch step: 50 Loss: (0.25696513056755066, 11560.127326433902)\n",
      "Epoch step: 100 Loss: (0.16481629014015198, 12924.205257802661)\n",
      "Evaluation perplexity: 1.016496\n",
      "\n",
      "Example #1\n",
      "Src :  3 6 2 8 3 1 9 8 4\n",
      "Trg :  3 6 2 8 3 1 9 8 4\n",
      "Pred:  3 6 2 8 3 1 9 8 4\n",
      "\n",
      "Example #2\n",
      "Src :  7 4 4 4 4 4 8 5 1\n",
      "Trg :  7 4 4 4 4 4 8 5 1\n",
      "Pred:  7 4 4 4 4 4 8 5 1\n",
      "\n",
      "Epoch 7\n",
      "Epoch step: 50 Loss: (0.16413113474845886, 12574.057767655277)\n",
      "Epoch step: 100 Loss: (0.12682338058948517, 11012.626216398057)\n",
      "Evaluation perplexity: 1.011299\n",
      "\n",
      "Example #1\n",
      "Src :  3 6 2 8 3 1 9 8 4\n",
      "Trg :  3 6 2 8 3 1 9 8 4\n",
      "Pred:  3 6 2 8 3 1 9 8 4\n",
      "\n",
      "Example #2\n",
      "Src :  7 4 4 4 4 4 8 5 1\n",
      "Trg :  7 4 4 4 4 4 8 5 1\n",
      "Pred:  7 4 4 4 4 4 8 5 1\n",
      "\n",
      "Epoch 8\n",
      "Epoch step: 50 Loss: (0.1280800700187683, 11622.604027713527)\n",
      "Epoch step: 100 Loss: (0.07978032529354095, 12403.268740395615)\n",
      "Evaluation perplexity: 1.008054\n",
      "\n",
      "Example #1\n",
      "Src :  3 6 2 8 3 1 9 8 4\n",
      "Trg :  3 6 2 8 3 1 9 8 4\n",
      "Pred:  3 6 2 8 3 1 9 8 4\n",
      "\n",
      "Example #2\n",
      "Src :  7 4 4 4 4 4 8 5 1\n",
      "Trg :  7 4 4 4 4 4 8 5 1\n",
      "Pred:  7 4 4 4 4 4 8 5 1\n",
      "\n",
      "Epoch 9\n",
      "Epoch step: 50 Loss: (0.06904114782810211, 11418.816040873167)\n",
      "Epoch step: 100 Loss: (0.05919376760721207, 11188.979597583397)\n",
      "Evaluation perplexity: 1.004532\n",
      "\n",
      "Example #1\n",
      "Src :  3 6 2 8 3 1 9 8 4\n",
      "Trg :  3 6 2 8 3 1 9 8 4\n",
      "Pred:  3 6 2 8 3 1 9 8 4\n",
      "\n",
      "Example #2\n",
      "Src :  7 4 4 4 4 4 8 5 1\n",
      "Trg :  7 4 4 4 4 4 8 5 1\n",
      "Pred:  7 4 4 4 4 4 8 5 1\n",
      "\n"
     ]
    },
    {
     "data": {
      "image/png": "[encoded data removed]",
      "text/plain": [
       "<Figure size 432x288 with 1 Axes>"
      ]
     },
     "metadata": {
      "needs_background": "light"
     },
     "output_type": "display_data"
    }
   ],
   "source": [
    "dev_perplexities = train_copy_task()\n",
    "plot_perplexity(dev_perplexities)"
   ]
  },
  {
   "cell_type": "code",
   "execution_count": null,
   "metadata": {},
   "outputs": [],
   "source": []
  }
 ],
 "metadata": {
  "kernelspec": {
   "display_name": "Python 3 (ipykernel)",
   "language": "python",
   "name": "python3"
  },
  "language_info": {
   "codemirror_mode": {
    "name": "ipython",
    "version": 3
   },
   "file_extension": ".py",
   "mimetype": "text/x-python",
   "name": "python",
   "nbconvert_exporter": "python",
   "pygments_lexer": "ipython3",
   "version": "3.9.7"
  }
 },
 "nbformat": 4,
 "nbformat_minor": 4
}
