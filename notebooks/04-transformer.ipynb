{
 "cells": [
  {
   "cell_type": "markdown",
   "id": "28c1a516-0950-4588-bde7-4bae32483ad7",
   "metadata": {},
   "source": [
    "# The transformer\n",
    "\n",
    "Based on [this blog](http://nlp.seas.harvard.edu/2018/04/03/attention.html)"
   ]
  },
  {
   "cell_type": "markdown",
   "id": "5ef417c2-1bc2-4a34-a25c-409c07e35eaf",
   "metadata": {},
   "source": [
    "<img src=\"../figures/transformer.jpg\">"
   ]
  },
  {
   "cell_type": "code",
   "execution_count": 2,
   "id": "ca63c932-66c0-4758-b671-ad642a94b71e",
   "metadata": {},
   "outputs": [],
   "source": [
    "import sys\n",
    "sys.path.append('../src')"
   ]
  },
  {
   "cell_type": "code",
   "execution_count": 3,
   "id": "d95e5eab-c4c5-4919-93bd-c9e48f354744",
   "metadata": {},
   "outputs": [],
   "source": [
    "from seq.transformer.synth import main"
   ]
  },
  {
   "cell_type": "markdown",
   "id": "d7aba21d-683d-4d14-95f2-9e3679b4083d",
   "metadata": {},
   "source": [
    "Train a copy task. The final evaluation task is to see whether the model can copy the input sequence: `[1,2,3,4,5,6,7,8,9,10,1,2,3,4,5]`. You see that, with successive epochs, the model eventually learns how to copy a sequence of length 15. \n",
    "\n",
    "See code and notes for details."
   ]
  },
  {
   "cell_type": "code",
   "execution_count": 4,
   "id": "65eaa2cb-2637-418f-94ec-69565aaf5753",
   "metadata": {},
   "outputs": [
    {
     "name": "stdout",
     "output_type": "stream",
     "text": [
      "Epoch: 0\n",
      "Epoch Step: 1, Loss: 2.6664676666259766, Tokens per Sec: 919.7064819335938\n",
      "Evaluation on random sequence. \n",
      "Epoch Step: 1, Loss: 1.6067243814468384, Tokens per Sec: 4791.423828125\n",
      "Evaluation loss: 1.5950511693954468\n",
      "Decoded on sequential source: tensor([[ 1,  4,  3,  8,  3,  3, 10,  5,  4,  5,  4,  5,  4,  7,  5]])\n",
      "=========================================\n",
      "Epoch: 1\n",
      "Epoch Step: 1, Loss: 1.6212575435638428, Tokens per Sec: 1024.406982421875\n",
      "Evaluation on random sequence. \n",
      "Epoch Step: 1, Loss: 1.4216724634170532, Tokens per Sec: 5130.52001953125\n",
      "Evaluation loss: 1.453959345817566\n",
      "Decoded on sequential source: tensor([[1, 3, 2, 4, 2, 3, 5, 8, 1, 3, 4, 2, 3, 4, 2]])\n",
      "=========================================\n",
      "Epoch: 2\n",
      "Epoch Step: 1, Loss: 1.4834731817245483, Tokens per Sec: 1030.7025146484375\n",
      "Evaluation on random sequence. \n",
      "Epoch Step: 1, Loss: 1.350097894668579, Tokens per Sec: 4548.6728515625\n",
      "Evaluation loss: 1.3289164304733276\n",
      "Decoded on sequential source: tensor([[ 1,  2,  4,  3,  5, 10,  7,  2,  6,  5,  4,  3,  9,  4,  3]])\n",
      "=========================================\n",
      "Epoch: 3\n",
      "Epoch Step: 1, Loss: 1.4225809574127197, Tokens per Sec: 1078.82421875\n",
      "Evaluation on random sequence. \n",
      "Epoch Step: 1, Loss: 1.1729660034179688, Tokens per Sec: 5082.2373046875\n",
      "Evaluation loss: 1.1817694902420044\n",
      "Decoded on sequential source: tensor([[ 1,  2,  3,  4,  5,  4,  7,  3,  9,  2,  8,  4, 10,  4,  4]])\n",
      "=========================================\n",
      "Epoch: 4\n",
      "Epoch Step: 1, Loss: 1.2029885053634644, Tokens per Sec: 1072.0057373046875\n",
      "Evaluation on random sequence. \n",
      "Epoch Step: 1, Loss: 0.7580888271331787, Tokens per Sec: 4101.798828125\n",
      "Evaluation loss: 0.7560493350028992\n",
      "Decoded on sequential source: tensor([[ 1,  2,  3,  4,  5,  6,  7,  8,  9, 10,  9,  2,  3,  4,  5]])\n",
      "=========================================\n",
      "Epoch: 5\n",
      "Epoch Step: 1, Loss: 0.8631266355514526, Tokens per Sec: 1069.879638671875\n",
      "Evaluation on random sequence. \n",
      "Epoch Step: 1, Loss: 0.5059615969657898, Tokens per Sec: 5695.45703125\n",
      "Evaluation loss: 0.5146005153656006\n",
      "Decoded on sequential source: tensor([[ 1,  2,  3,  5,  6,  7,  7,  9,  8, 10,  2,  1,  3,  2,  5]])\n",
      "=========================================\n",
      "Epoch: 6\n",
      "Epoch Step: 1, Loss: 0.6717898845672607, Tokens per Sec: 1072.8231201171875\n",
      "Evaluation on random sequence. \n",
      "Epoch Step: 1, Loss: 0.1750827431678772, Tokens per Sec: 4794.12939453125\n",
      "Evaluation loss: 0.2317236363887787\n",
      "Decoded on sequential source: tensor([[ 1,  2,  3,  4,  5,  6,  7,  8,  9, 10,  1,  2,  3,  4,  5]])\n",
      "=========================================\n",
      "Epoch: 7\n",
      "Epoch Step: 1, Loss: 0.39442548155784607, Tokens per Sec: 1076.4453125\n",
      "Evaluation on random sequence. \n",
      "Epoch Step: 1, Loss: 0.2733263373374939, Tokens per Sec: 4196.38232421875\n",
      "Evaluation loss: 0.2539915144443512\n",
      "Decoded on sequential source: tensor([[ 1,  2,  3,  4,  5,  6,  7,  8,  9, 10,  1,  2,  3,  5,  4]])\n",
      "=========================================\n",
      "Epoch: 8\n",
      "Epoch Step: 1, Loss: 0.29810306429862976, Tokens per Sec: 999.8062744140625\n",
      "Evaluation on random sequence. \n",
      "Epoch Step: 1, Loss: 0.11821166425943375, Tokens per Sec: 4304.4833984375\n",
      "Evaluation loss: 0.13971734046936035\n",
      "Decoded on sequential source: tensor([[ 1,  2,  3,  4,  5,  6,  7,  8,  9, 10,  1,  2,  3,  4,  5]])\n",
      "=========================================\n",
      "Epoch: 9\n",
      "Epoch Step: 1, Loss: 0.21506571769714355, Tokens per Sec: 1049.926513671875\n",
      "Evaluation on random sequence. \n",
      "Epoch Step: 1, Loss: 0.08616656064987183, Tokens per Sec: 4001.38037109375\n",
      "Evaluation loss: 0.09440121799707413\n",
      "Decoded on sequential source: tensor([[ 1,  2,  3,  4,  5,  6,  7,  8,  9, 10,  1,  2,  3,  4,  5]])\n",
      "=========================================\n",
      "Final evaluation\n",
      "Decoded on sequential source: tensor([[ 1,  2,  3,  4,  5,  6,  7,  8,  9, 10,  1,  2,  3,  4,  5]])\n",
      "Done.\n"
     ]
    }
   ],
   "source": [
    "main()"
   ]
  },
  {
   "cell_type": "code",
   "execution_count": null,
   "id": "5b81c797-cec3-4f13-b975-4a48ade375aa",
   "metadata": {},
   "outputs": [],
   "source": []
  }
 ],
 "metadata": {
  "kernelspec": {
   "display_name": "Python 3 (ipykernel)",
   "language": "python",
   "name": "python3"
  },
  "language_info": {
   "codemirror_mode": {
    "name": "ipython",
    "version": 3
   },
   "file_extension": ".py",
   "mimetype": "text/x-python",
   "name": "python",
   "nbconvert_exporter": "python",
   "pygments_lexer": "ipython3",
   "version": "3.9.7"
  }
 },
 "nbformat": 4,
 "nbformat_minor": 5
}
