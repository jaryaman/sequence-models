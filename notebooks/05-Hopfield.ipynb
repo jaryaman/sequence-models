{
 "cells": [
  {
   "cell_type": "markdown",
   "metadata": {},
   "source": [
    "# Hopfield networks"
   ]
  },
  {
   "cell_type": "markdown",
   "metadata": {},
   "source": [
    "Hopfield networks were [first imagined](https://www.pnas.org/content/pnas/79/8/2554.full.pdf) to be dynamical systems of coupled Ising spins, where a particular encoding scheme is used to set inter-spin connection strengths, such that any system state vector can be made to be a stable state of the system. Hopfield networks are a mathematical model of **memory**.\n",
    "\n",
    "Let the state vector of the system is the set of spins $x_i \\in \\{-1, 1\\}$ for $i=1,...,d$. The strength of connections between spins $i$ and $j$ is $W_{ij}$. The system evolves under the following dynamics. At some rate, spins flip according to the following rule:\n",
    "- $x_i \\rightarrow 1$ if $\\sum_{i \\neq j} W_{ij} x_j > U_i$\n",
    "- $x_i \\rightarrow 0$ if $\\sum_{i \\neq j} W_{ij} x_j < U_i$\n",
    "\n",
    "until an equilibrium is reached. We usually set $U_i=0\\ \\forall\\ i$, meaning that a spin-up has the same energy as a spin-down.\n",
    "\n",
    "If we configure $W_{ij}$ in a particular way, we can encode any arbitrary state vector $x$ to be an equilibrium of the dynamical system. Indeed, we can even attempt to store a **collection** of $N$ state vectors $x^s$ for $s=1,...,N$ as equilibria of the spin system, by encoding the collection of state vectors in the interaction strengths of the spins. We use the encoding rule\n",
    "$$W_{ij} = \\sum_{s=1}^N x_i^s x_j^s$$\n",
    "i.e. a sum of outer products of each of the state vectors we wish to encode.\n",
    "\n",
    "We then take some arbitrary state vector $\\xi$ and allow this vector to evolve under the dynamics of the system (where the dimensions of $\\xi$ can be updated **synchronously** or **asynchronously**). A synchronous update rule corresponds to all  spins/neurons of the system being updated at the same time using a centralised clock; such an update rule is\n",
    "$$\\xi^{t+1} = sgn(W \\xi^t - U).$$\n",
    "Synchronous update rules are often thought of as unrealistic biological models (and are also not great in machine learning because we often want to leverage large parallelism). An asynchronous update rule corresponds to applying the previous equation, but for only one component of $\\xi$ at a time, until convergence is reached and $\\xi^{t+1} = \\xi^t$. This asynchronous update rule corresponds to hamiltonian dynamics with energy\n",
    "$$E=-\\frac{1}{2} \\xi^T W \\xi + \\xi^T U.$$"
   ]
  },
  {
   "cell_type": "markdown",
   "metadata": {},
   "source": [
    "See also:\n",
    "- https://ml-jku.github.io/hopfield-layers/\n",
    "- https://en.wikipedia.org/wiki/Hopfield_network \n",
    "- https://en.wikipedia.org/wiki/Modern_Hopfield_network\n",
    "- https://arxiv.org/pdf/1702.01929.pdf (Modern Hopfield network paper)"
   ]
  },
  {
   "cell_type": "markdown",
   "metadata": {},
   "source": [
    "## Hopfield network on a single image\n",
    "\n",
    "We want to encode a single state vector as the equilibrium of the spin system, which will represent a binarized image of Homer Simpson."
   ]
  },
  {
   "cell_type": "code",
   "execution_count": 1,
   "metadata": {},
   "outputs": [],
   "source": [
    "import numpy as np\n",
    "from scipy.sparse import coo_matrix\n",
    "from dataclasses import dataclass\n",
    "import pandas as pd"
   ]
  },
  {
   "cell_type": "code",
   "execution_count": 2,
   "metadata": {},
   "outputs": [],
   "source": [
    "import matplotlib.pyplot as plt\n",
    "from PIL import Image\n",
    "\n",
    "img = Image.open('../resources/simpsons/homer.jpg')"
   ]
  },
  {
   "cell_type": "code",
   "execution_count": 3,
   "metadata": {},
   "outputs": [
    {
     "data": {
      "image/png": "[encoded data removed]",
      "text/plain": [
       "<Figure size 432x288 with 1 Axes>"
      ]
     },
     "metadata": {
      "needs_background": "light"
     },
     "output_type": "display_data"
    }
   ],
   "source": [
    "plt.imshow(img);"
   ]
  },
  {
   "cell_type": "markdown",
   "metadata": {},
   "source": [
    "Here he is!"
   ]
  },
  {
   "cell_type": "markdown",
   "metadata": {},
   "source": [
    "Use custom threshold to binarize the image and resize"
   ]
  },
  {
   "cell_type": "code",
   "execution_count": 4,
   "metadata": {},
   "outputs": [
    {
     "data": {
      "image/png": "[encoded data removed]",
      "text/plain": [
       "<Figure size 432x288 with 1 Axes>"
      ]
     },
     "metadata": {
      "needs_background": "light"
     },
     "output_type": "display_data"
    }
   ],
   "source": [
    "thresh = 118\n",
    "fn = lambda x : 255 if x > thresh else 0\n",
    "bw = img.convert('L').point(fn, mode='1')\n",
    "\n",
    "size=64\n",
    "r = bw.resize((size, size), Image.ANTIALIAS)\n",
    "\n",
    "homer = 2*np.bitwise_not(np.array(r)) - 1\n",
    "\n",
    "plt.imshow(homer, cmap='Greys');"
   ]
  },
  {
   "cell_type": "code",
   "execution_count": 5,
   "metadata": {},
   "outputs": [
    {
     "data": {
      "text/plain": [
       "(-1, 1)"
      ]
     },
     "execution_count": 5,
     "metadata": {},
     "output_type": "execute_result"
    }
   ],
   "source": [
    "homer.min(), homer.max()"
   ]
  },
  {
   "cell_type": "code",
   "execution_count": 6,
   "metadata": {},
   "outputs": [
    {
     "data": {
      "text/plain": [
       "(64, 64)"
      ]
     },
     "execution_count": 6,
     "metadata": {},
     "output_type": "execute_result"
    }
   ],
   "source": [
    "homer.shape"
   ]
  },
  {
   "cell_type": "markdown",
   "metadata": {},
   "source": [
    "Encode Homer as a vector $x$ in the interaction strengths of the spins $W$."
   ]
  },
  {
   "cell_type": "code",
   "execution_count": 7,
   "metadata": {},
   "outputs": [],
   "source": [
    "homer_vec = homer.reshape((size*size, 1))"
   ]
  },
  {
   "cell_type": "code",
   "execution_count": 8,
   "metadata": {},
   "outputs": [],
   "source": [
    "W = homer_vec.dot(homer_vec.transpose())"
   ]
  },
  {
   "cell_type": "markdown",
   "metadata": {},
   "source": [
    "Now take an initial state $\\xi$ as some corrupted image of Homer (we could start with any vector because $x$ will turn out to be a global attractor)."
   ]
  },
  {
   "cell_type": "code",
   "execution_count": 9,
   "metadata": {},
   "outputs": [],
   "source": [
    "initial_state = homer_vec.copy()\n",
    "initial_state[int(size*size/2):] = 1"
   ]
  },
  {
   "cell_type": "code",
   "execution_count": 10,
   "metadata": {},
   "outputs": [
    {
     "data": {
      "text/plain": [
       "<matplotlib.image.AxesImage at 0x7f3f948064c0>"
      ]
     },
     "execution_count": 10,
     "metadata": {},
     "output_type": "execute_result"
    },
    {
     "data": {
      "image/png": "[encoded data removed]",
      "text/plain": [
       "<Figure size 432x288 with 1 Axes>"
      ]
     },
     "metadata": {
      "needs_background": "light"
     },
     "output_type": "display_data"
    }
   ],
   "source": [
    "plt.imshow(initial_state.reshape((size, size)), cmap='Greys')"
   ]
  },
  {
   "cell_type": "markdown",
   "metadata": {},
   "source": [
    "We can evolve the image in one shot to the system equilibrium."
   ]
  },
  {
   "cell_type": "code",
   "execution_count": 11,
   "metadata": {},
   "outputs": [],
   "source": [
    "final_state = np.sign(W.dot(initial_state))"
   ]
  },
  {
   "cell_type": "code",
   "execution_count": 12,
   "metadata": {},
   "outputs": [
    {
     "data": {
      "image/png": "[encoded data removed]",
      "text/plain": [
       "<Figure size 432x288 with 1 Axes>"
      ]
     },
     "metadata": {
      "needs_background": "light"
     },
     "output_type": "display_data"
    }
   ],
   "source": [
    "plt.imshow(final_state.reshape((size,size)), cmap='Greys');"
   ]
  },
  {
   "cell_type": "markdown",
   "metadata": {},
   "source": [
    "We got the same image."
   ]
  },
  {
   "cell_type": "markdown",
   "metadata": {},
   "source": [
    "## Hopfield network on multiple images\n",
    "\n",
    "Things get interesting if we want to encode $N$ images."
   ]
  },
  {
   "cell_type": "code",
   "execution_count": 13,
   "metadata": {},
   "outputs": [],
   "source": [
    "from pathlib import Path"
   ]
  },
  {
   "cell_type": "code",
   "execution_count": 14,
   "metadata": {},
   "outputs": [],
   "source": [
    "simpsons = list(Path('../resources/simpsons/').glob('*'))\n",
    "simpsons = {f.stem: f for f in simpsons}"
   ]
  },
  {
   "cell_type": "code",
   "execution_count": 15,
   "metadata": {},
   "outputs": [
    {
     "data": {
      "text/plain": [
       "{'abe': PosixPath('../resources/simpsons/abe.jpg'),\n",
       " 'bart': PosixPath('../resources/simpsons/bart.jpg'),\n",
       " 'homer': PosixPath('../resources/simpsons/homer.jpg'),\n",
       " 'lisa': PosixPath('../resources/simpsons/lisa.jpg'),\n",
       " 'maggie': PosixPath('../resources/simpsons/maggie.jpg'),\n",
       " 'marge': PosixPath('../resources/simpsons/marge.jpg'),\n",
       " 'moe': PosixPath('../resources/simpsons/moe.jpg')}"
      ]
     },
     "execution_count": 15,
     "metadata": {},
     "output_type": "execute_result"
    }
   ],
   "source": [
    "simpsons"
   ]
  },
  {
   "cell_type": "code",
   "execution_count": 16,
   "metadata": {},
   "outputs": [],
   "source": [
    "def threshold_square_vectorize(file, thresh, size):\n",
    "    img = Image.open(file)\n",
    "    fn = lambda x : 255 if x > thresh else 0\n",
    "    bw = img.convert('L').point(fn, mode='1')\n",
    "    r = bw.resize((size, size), Image.ANTIALIAS)\n",
    "    return 2*np.bitwise_not(np.array(r)) - 1\n"
   ]
  },
  {
   "cell_type": "code",
   "execution_count": 17,
   "metadata": {},
   "outputs": [
    {
     "data": {
      "image/png": "[encoded data removed]",
      "text/plain": [
       "<Figure size 720x720 with 8 Axes>"
      ]
     },
     "metadata": {
      "needs_background": "light"
     },
     "output_type": "display_data"
    }
   ],
   "source": [
    "thresh = {'bart': 200, 'homer': 118, 'lisa': 200, 'marge': 170, 'abe': 120, 'moe': 120, 'maggie': 120}\n",
    "names = []\n",
    "vectors = []\n",
    "size = 64\n",
    "\n",
    "fig, axs = plt.subplots(4, 2, figsize=(10,10))\n",
    "axs = axs.ravel()\n",
    "\n",
    "for i, simpson in enumerate(simpsons):\n",
    "    v = threshold_square_vectorize(simpsons[simpson], thresh[simpson], size)\n",
    "    state_vector = v.reshape(size*size)\n",
    "    names.append(simpson)\n",
    "    vectors.append(state_vector)\n",
    "    \n",
    "    ax = axs[i]\n",
    "    ax.imshow(v, cmap='Greys')\n",
    "\n",
    "axs[-1].axis(False);\n",
    "\n",
    "state_vectors = pd.DataFrame(np.stack(vectors, axis=1), columns=names)"
   ]
  },
  {
   "cell_type": "code",
   "execution_count": 18,
   "metadata": {},
   "outputs": [
    {
     "data": {
      "text/html": [
       "<div>\n",
       "<style scoped>\n",
       "    .dataframe tbody tr th:only-of-type {\n",
       "        vertical-align: middle;\n",
       "    }\n",
       "\n",
       "    .dataframe tbody tr th {\n",
       "        vertical-align: top;\n",
       "    }\n",
       "\n",
       "    .dataframe thead th {\n",
       "        text-align: right;\n",
       "    }\n",
       "</style>\n",
       "<table border=\"1\" class=\"dataframe\">\n",
       "  <thead>\n",
       "    <tr style=\"text-align: right;\">\n",
       "      <th></th>\n",
       "      <th>abe</th>\n",
       "      <th>bart</th>\n",
       "      <th>homer</th>\n",
       "      <th>lisa</th>\n",
       "      <th>maggie</th>\n",
       "      <th>marge</th>\n",
       "      <th>moe</th>\n",
       "    </tr>\n",
       "  </thead>\n",
       "  <tbody>\n",
       "    <tr>\n",
       "      <th>0</th>\n",
       "      <td>1</td>\n",
       "      <td>1</td>\n",
       "      <td>-1</td>\n",
       "      <td>-1</td>\n",
       "      <td>-1</td>\n",
       "      <td>-1</td>\n",
       "      <td>1</td>\n",
       "    </tr>\n",
       "    <tr>\n",
       "      <th>1</th>\n",
       "      <td>1</td>\n",
       "      <td>1</td>\n",
       "      <td>-1</td>\n",
       "      <td>-1</td>\n",
       "      <td>-1</td>\n",
       "      <td>-1</td>\n",
       "      <td>1</td>\n",
       "    </tr>\n",
       "    <tr>\n",
       "      <th>2</th>\n",
       "      <td>1</td>\n",
       "      <td>1</td>\n",
       "      <td>-1</td>\n",
       "      <td>-1</td>\n",
       "      <td>-1</td>\n",
       "      <td>-1</td>\n",
       "      <td>1</td>\n",
       "    </tr>\n",
       "    <tr>\n",
       "      <th>3</th>\n",
       "      <td>1</td>\n",
       "      <td>1</td>\n",
       "      <td>-1</td>\n",
       "      <td>-1</td>\n",
       "      <td>-1</td>\n",
       "      <td>-1</td>\n",
       "      <td>-1</td>\n",
       "    </tr>\n",
       "    <tr>\n",
       "      <th>4</th>\n",
       "      <td>1</td>\n",
       "      <td>1</td>\n",
       "      <td>-1</td>\n",
       "      <td>-1</td>\n",
       "      <td>-1</td>\n",
       "      <td>-1</td>\n",
       "      <td>-1</td>\n",
       "    </tr>\n",
       "    <tr>\n",
       "      <th>...</th>\n",
       "      <td>...</td>\n",
       "      <td>...</td>\n",
       "      <td>...</td>\n",
       "      <td>...</td>\n",
       "      <td>...</td>\n",
       "      <td>...</td>\n",
       "      <td>...</td>\n",
       "    </tr>\n",
       "    <tr>\n",
       "      <th>4091</th>\n",
       "      <td>1</td>\n",
       "      <td>-1</td>\n",
       "      <td>1</td>\n",
       "      <td>1</td>\n",
       "      <td>-1</td>\n",
       "      <td>1</td>\n",
       "      <td>1</td>\n",
       "    </tr>\n",
       "    <tr>\n",
       "      <th>4092</th>\n",
       "      <td>1</td>\n",
       "      <td>-1</td>\n",
       "      <td>1</td>\n",
       "      <td>-1</td>\n",
       "      <td>-1</td>\n",
       "      <td>1</td>\n",
       "      <td>1</td>\n",
       "    </tr>\n",
       "    <tr>\n",
       "      <th>4093</th>\n",
       "      <td>1</td>\n",
       "      <td>-1</td>\n",
       "      <td>1</td>\n",
       "      <td>-1</td>\n",
       "      <td>-1</td>\n",
       "      <td>1</td>\n",
       "      <td>-1</td>\n",
       "    </tr>\n",
       "    <tr>\n",
       "      <th>4094</th>\n",
       "      <td>1</td>\n",
       "      <td>-1</td>\n",
       "      <td>-1</td>\n",
       "      <td>1</td>\n",
       "      <td>-1</td>\n",
       "      <td>1</td>\n",
       "      <td>-1</td>\n",
       "    </tr>\n",
       "    <tr>\n",
       "      <th>4095</th>\n",
       "      <td>1</td>\n",
       "      <td>-1</td>\n",
       "      <td>-1</td>\n",
       "      <td>1</td>\n",
       "      <td>-1</td>\n",
       "      <td>-1</td>\n",
       "      <td>1</td>\n",
       "    </tr>\n",
       "  </tbody>\n",
       "</table>\n",
       "<p>4096 rows × 7 columns</p>\n",
       "</div>"
      ],
      "text/plain": [
       "      abe  bart  homer  lisa  maggie  marge  moe\n",
       "0       1     1     -1    -1      -1     -1    1\n",
       "1       1     1     -1    -1      -1     -1    1\n",
       "2       1     1     -1    -1      -1     -1    1\n",
       "3       1     1     -1    -1      -1     -1   -1\n",
       "4       1     1     -1    -1      -1     -1   -1\n",
       "...   ...   ...    ...   ...     ...    ...  ...\n",
       "4091    1    -1      1     1      -1      1    1\n",
       "4092    1    -1      1    -1      -1      1    1\n",
       "4093    1    -1      1    -1      -1      1   -1\n",
       "4094    1    -1     -1     1      -1      1   -1\n",
       "4095    1    -1     -1     1      -1     -1    1\n",
       "\n",
       "[4096 rows x 7 columns]"
      ]
     },
     "execution_count": 18,
     "metadata": {},
     "output_type": "execute_result"
    }
   ],
   "source": [
    "state_vectors"
   ]
  },
  {
   "cell_type": "code",
   "execution_count": 19,
   "metadata": {},
   "outputs": [],
   "source": [
    "def _subset_state_vectors(state_vectors, names):\n",
    "    if names is None:\n",
    "        return state_vectors.values.copy()\n",
    "    else:        \n",
    "        return state_vectors.loc[:, names].values.copy()\n",
    "\n",
    "def compute_interaction_weights(state_vectors, names = None):\n",
    "    sv = _subset_state_vectors(state_vectors, names)\n",
    "    return np.einsum('ij,kj', sv, sv)"
   ]
  },
  {
   "cell_type": "code",
   "execution_count": 20,
   "metadata": {},
   "outputs": [],
   "source": [
    "def plot_img_vec(vec, size):\n",
    "    plt.imshow(vec.reshape((size,size)), cmap='Greys');"
   ]
  },
  {
   "cell_type": "code",
   "execution_count": 21,
   "metadata": {},
   "outputs": [],
   "source": [
    "def update_state_from_interactions(state, W):\n",
    "    return np.sign(W.dot(state))"
   ]
  },
  {
   "cell_type": "code",
   "execution_count": 22,
   "metadata": {},
   "outputs": [],
   "source": [
    "W_all = compute_interaction_weights(state_vectors, ['homer','lisa','lisa'])"
   ]
  },
  {
   "cell_type": "code",
   "execution_count": 23,
   "metadata": {},
   "outputs": [],
   "source": [
    "final_state = update_state_from_interactions(initial_state, W_all)"
   ]
  },
  {
   "cell_type": "code",
   "execution_count": 24,
   "metadata": {},
   "outputs": [
    {
     "data": {
      "image/png": "[encoded data removed]",
      "text/plain": [
       "<Figure size 432x288 with 1 Axes>"
      ]
     },
     "metadata": {
      "needs_background": "light"
     },
     "output_type": "display_data"
    }
   ],
   "source": [
    "plot_img_vec(initial_state, size)"
   ]
  },
  {
   "cell_type": "code",
   "execution_count": 25,
   "metadata": {},
   "outputs": [
    {
     "data": {
      "image/png": "[encoded data removed]",
      "text/plain": [
       "<Figure size 432x288 with 1 Axes>"
      ]
     },
     "metadata": {
      "needs_background": "light"
     },
     "output_type": "display_data"
    }
   ],
   "source": [
    "plot_img_vec(final_state, size)"
   ]
  },
  {
   "cell_type": "markdown",
   "metadata": {},
   "source": [
    "Retrieval is no longer perfect."
   ]
  },
  {
   "cell_type": "code",
   "execution_count": 26,
   "metadata": {},
   "outputs": [],
   "source": [
    "W_all = compute_interaction_weights(state_vectors, ['homer', 'homer', 'lisa'])"
   ]
  },
  {
   "cell_type": "code",
   "execution_count": 27,
   "metadata": {},
   "outputs": [],
   "source": [
    "final_state = update_state_from_interactions(initial_state, W_all)"
   ]
  },
  {
   "cell_type": "code",
   "execution_count": 28,
   "metadata": {},
   "outputs": [
    {
     "data": {
      "image/png": "[encoded data removed]",
      "text/plain": [
       "<Figure size 432x288 with 1 Axes>"
      ]
     },
     "metadata": {
      "needs_background": "light"
     },
     "output_type": "display_data"
    }
   ],
   "source": [
    "plot_img_vec(final_state, size)"
   ]
  },
  {
   "cell_type": "markdown",
   "metadata": {},
   "source": [
    "But if we encode the system more heavily with Homer, we still get Homer back. Note also that, since we've used $U=0$, both +1 and -1 have the same energy, so we can get the inverse image back too."
   ]
  },
  {
   "cell_type": "code",
   "execution_count": 29,
   "metadata": {},
   "outputs": [
    {
     "data": {
      "image/png": "[encoded data removed]",
      "text/plain": [
       "<Figure size 432x288 with 1 Axes>"
      ]
     },
     "metadata": {
      "needs_background": "light"
     },
     "output_type": "display_data"
    }
   ],
   "source": [
    "W_all = compute_interaction_weights(state_vectors, ['homer', 'marge', 'marge'])\n",
    "final_state = update_state_from_interactions(initial_state, W_all)\n",
    "plot_img_vec(final_state, size)"
   ]
  },
  {
   "cell_type": "markdown",
   "metadata": {},
   "source": [
    "Try using 6 patterns:"
   ]
  },
  {
   "cell_type": "code",
   "execution_count": 30,
   "metadata": {},
   "outputs": [
    {
     "data": {
      "image/png": "[encoded data removed]",
      "text/plain": [
       "<Figure size 432x288 with 1 Axes>"
      ]
     },
     "metadata": {
      "needs_background": "light"
     },
     "output_type": "display_data"
    }
   ],
   "source": [
    "W_all = compute_interaction_weights(state_vectors, ['homer', 'bart', 'marge', 'maggie', 'abe', 'moe'])\n",
    "final_state = update_state_from_interactions(initial_state, W_all)\n",
    "plot_img_vec(final_state, size)"
   ]
  },
  {
   "cell_type": "markdown",
   "metadata": {},
   "source": [
    "The retrieval is all mashed up."
   ]
  },
  {
   "cell_type": "markdown",
   "metadata": {},
   "source": [
    "One might suspect that the limited capacity of the network is the explanation for the imperfect retrieval. However, it [can be shown](https://citeseerx.ist.psu.edu/viewdoc/download?doi=10.1.1.322.3548&rep=rep1&type=pdf) that the maximum number of patterns which can be stored in a Hopfield network with perfect retrieval ($C$) is\n",
    "$$C \\approx \\frac{d}{2 \\log(d)}$$\n",
    "and with imperfect retrieval is\n",
    "$$C \\approx 0.14 d$$\n",
    "which for the case of 64$\\times$64 images is $C=573$ images.\n",
    "\n",
    "Capacity is not the explanation, it is that the images are correlated. Thus we need a method which can pull apart strongly correlated patterns."
   ]
  },
  {
   "cell_type": "markdown",
   "metadata": {},
   "source": [
    "## Modern Hopfield Networks (a.k.a. Dense Associative Memories)"
   ]
  },
  {
   "cell_type": "markdown",
   "metadata": {},
   "source": [
    "Modern hopfield networks generalise the Hopfield network, and can improve upon the linear scaling of number of memories with the number of neurons. The key theoretical idea is to use an energy function which is more sharply peaked around the stored memories in neuronal configuration space, relative to the classical Hopfield network."
   ]
  },
  {
   "cell_type": "code",
   "execution_count": 31,
   "metadata": {},
   "outputs": [],
   "source": [
    "from scipy.special import logsumexp\n",
    "from typing import Optional\n",
    "from tqdm import tqdm"
   ]
  },
  {
   "cell_type": "code",
   "execution_count": 65,
   "metadata": {},
   "outputs": [],
   "source": [
    "def exponential_interaction_function(update_index, sv: np.array, initial_state: np.array):    \n",
    "    d = initial_state.shape[0]\n",
    "    n_mem = sv.shape[1]     \n",
    "    \n",
    "    assert sv.shape == (d, n_mem)\n",
    "    assert initial_state.shape == (d, 1)\n",
    "    \n",
    "    \n",
    "    initial_state_flip = initial_state.copy()\n",
    "    \n",
    "    initial_state_flip[update_index] = - initial_state_flip[update_index]\n",
    "    \n",
    "    proj_init_state = sv.transpose().dot(initial_state)\n",
    "    proj_init_state_flip = sv.transpose().dot(initial_state_flip)\n",
    "    \n",
    "    log_energy_no_flip = logsumexp(proj_init_state)\n",
    "    log_energy_flip    = logsumexp(proj_init_state_flip)       \n",
    "    \n",
    "    if log_energy_flip < log_energy_no_flip:  # if energy with flip is lower than energy without flip\n",
    "        return -1 * initial_state_flip[update_index]  # then flip\n",
    "        # return -1  # the original paper seems to suggest it should be this\n",
    "    else:\n",
    "        return initial_state_flip[update_index]  # don't flip\n",
    "        # return 1  # the original paper seems to suggest it should be this\n",
    "\n",
    "def modern_hopfield_update_exp(initial_state: np.array, state_vectors: pd.DataFrame, names:  Optional[list] = None): \n",
    "    state_update = initial_state.copy()    \n",
    "    sv = _subset_state_vectors(state_vectors, names)\n",
    "    for i in tqdm(range(initial_state.shape[0])):\n",
    "        new_state = exponential_interaction_function(i, sv, initial_state)\n",
    "        state_update[i] = new_state        \n",
    "    return state_update"
   ]
  },
  {
   "cell_type": "markdown",
   "metadata": {},
   "source": [
    "**Note**: Here, I'm **updating** the input state state by determining whether or not to flip the state, whereas [the wikipedia page](https://en.wikipedia.org/wiki/Modern_Hopfield_network) and [the original paper](https://arxiv.org/pdf/1702.01929.pdf) say that the update rule sets the absolute state of the neuron ($V_i^{(t+1)} = \\text{sign}[...]$). I'm not completely sure where the difference is arising, but what I do above works."
   ]
  },
  {
   "cell_type": "code",
   "execution_count": 66,
   "metadata": {},
   "outputs": [
    {
     "data": {
      "image/png": "[encoded data removed]",
      "text/plain": [
       "<Figure size 432x288 with 1 Axes>"
      ]
     },
     "metadata": {
      "needs_background": "light"
     },
     "output_type": "display_data"
    }
   ],
   "source": [
    "plot_img_vec(initial_state, size)"
   ]
  },
  {
   "cell_type": "code",
   "execution_count": 69,
   "metadata": {},
   "outputs": [
    {
     "name": "stderr",
     "output_type": "stream",
     "text": [
      "100%|██████████| 4096/4096 [00:00<00:00, 7913.97it/s]\n"
     ]
    },
    {
     "data": {
      "image/png": "[encoded data removed]",
      "text/plain": [
       "<Figure size 432x288 with 1 Axes>"
      ]
     },
     "metadata": {
      "needs_background": "light"
     },
     "output_type": "display_data"
    }
   ],
   "source": [
    "final_state = modern_hopfield_update_exp(initial_state, state_vectors, names=['homer', 'bart', 'marge', 'maggie', 'abe', 'moe'])\n",
    "plot_img_vec(final_state, size)"
   ]
  },
  {
   "cell_type": "markdown",
   "metadata": {},
   "source": [
    "The modern Hopfield network can retrieve Homer, even with all 6 images stored. Modern Hopfield networks can distinguish strongly correlated patterns, and have much-increased storage capacity, [see here](https://ml-jku.github.io/hopfield-layers/)."
   ]
  },
  {
   "cell_type": "code",
   "execution_count": null,
   "metadata": {},
   "outputs": [],
   "source": []
  }
 ],
 "metadata": {
  "kernelspec": {
   "display_name": "Python 3",
   "language": "python",
   "name": "python3"
  },
  "language_info": {
   "codemirror_mode": {
    "name": "ipython",
    "version": 3
   },
   "file_extension": ".py",
   "mimetype": "text/x-python",
   "name": "python",
   "nbconvert_exporter": "python",
   "pygments_lexer": "ipython3",
   "version": "3.8.5"
  }
 },
 "nbformat": 4,
 "nbformat_minor": 4
}
