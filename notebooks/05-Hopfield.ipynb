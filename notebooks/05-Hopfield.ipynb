{
 "cells": [
  {
   "cell_type": "markdown",
   "metadata": {},
   "source": [
    "# Hopfield networks"
   ]
  },
  {
   "cell_type": "markdown",
   "metadata": {},
   "source": [
    "Hopfield networks were [first imagined](https://www.pnas.org/content/pnas/79/8/2554.full.pdf) to be dynamical systems of coupled Ising spins, where a particular encoding scheme is used to set inter-spin connection strengths, such that any system state vector can be made to be a stable state of the system. Hopfield networks are a mathematical model of **memory**.\n",
    "\n",
    "Let the state vector of the system is the set of spins $x_i \\in \\{-1, 1\\}$ for $i=1,...,d$. The strength of connections between spins $i$ and $j$ is $W_{ij}$. The system evolves under the following dynamics. At some rate, spins flip according to the following rule:\n",
    "- $x_i \\rightarrow 1$ if $\\sum_{i \\neq j} W_{ij} x_j > U_i$\n",
    "- $x_i \\rightarrow 0$ if $\\sum_{i \\neq j} W_{ij} x_j < U_i$\n",
    "\n",
    "until an equilibrium is reached. We usually set $U_i=0\\ \\forall\\ i$.\n",
    "\n",
    "If we configure $W_{ij}$ in a particular way, we can encode any arbitrary state vector $x$ to be an equilibrium of the dynamical system. Indeed, we can even attempt to store a **collection** of $N$ state vectors $x^s$ for $s=1,...,N$ as equilibria of the spin system, by encoding the collection of state vectors in the interaction strengths of the spins. We use the encoding rule\n",
    "$$W_{ij} = \\sum_{s=1}^N x_i^s x_j^s$$\n",
    "i.e. a sum of outer products of each of the state vectors we wish to encode.\n",
    "\n",
    "We then take some arbitrary state vector $\\xi$ and allow this vector to evolve under the dynamics of the system (where the dimensions of $\\xi$ can be updated **synchronously** or **asynchronously**). A synchronous update rule corresponds to all  spins/neurons of the system being updated at the same time using a centralised clock; such an update rule is\n",
    "$$\\xi^{t+1} = sgn(W \\xi^t - U).$$\n",
    "Synchronous update rules are often thought of as unrealistic biological models (and are also not great in machine learning because we often want to leverage large parallelism). An asynchronous update rule corresponds to applying the previous equation, but for only one component of $\\xi$ at a time, until convergence is reached and $\\xi^{t+1} = \\xi^t$. This asynchronous update rule corresponds to hamiltonian dynamics with energy\n",
    "$$E=-\\frac{1}{2} \\xi^T W \\xi + \\xi^T U.$$"
   ]
  },
  {
   "cell_type": "markdown",
   "metadata": {},
   "source": [
    "See also:\n",
    "- https://ml-jku.github.io/hopfield-layers/\n",
    "- https://en.wikipedia.org/wiki/Hopfield_network "
   ]
  },
  {
   "cell_type": "markdown",
   "metadata": {},
   "source": [
    "## Hopfield network on a single image\n",
    "\n",
    "We want to encode a single state vector as the equilibrium of the spin system, which will represent a binarized image of Homer Simpson."
   ]
  },
  {
   "cell_type": "code",
   "execution_count": 59,
   "metadata": {},
   "outputs": [],
   "source": [
    "import numpy as np\n",
    "from scipy.sparse import coo_matrix"
   ]
  },
  {
   "cell_type": "code",
   "execution_count": 2,
   "metadata": {},
   "outputs": [],
   "source": [
    "import matplotlib.pyplot as plt\n",
    "from PIL import Image\n",
    "\n",
    "img = Image.open('../resources/simpsons/homer.jpg')"
   ]
  },
  {
   "cell_type": "code",
   "execution_count": 3,
   "metadata": {},
   "outputs": [
    {
     "data": {
      "image/png": "[encoded data removed]",
      "text/plain": [
       "<Figure size 432x288 with 1 Axes>"
      ]
     },
     "metadata": {
      "needs_background": "light"
     },
     "output_type": "display_data"
    }
   ],
   "source": [
    "plt.imshow(img);"
   ]
  },
  {
   "cell_type": "markdown",
   "metadata": {},
   "source": [
    "Here he is!"
   ]
  },
  {
   "cell_type": "markdown",
   "metadata": {},
   "source": [
    "Use custom threshold to binarize the image and resize"
   ]
  },
  {
   "cell_type": "code",
   "execution_count": 48,
   "metadata": {},
   "outputs": [
    {
     "data": {
      "image/png": "[encoded data removed]",
      "text/plain": [
       "<Figure size 432x288 with 1 Axes>"
      ]
     },
     "metadata": {
      "needs_background": "light"
     },
     "output_type": "display_data"
    }
   ],
   "source": [
    "thresh = 118\n",
    "fn = lambda x : 255 if x > thresh else 0\n",
    "bw = img.convert('L').point(fn, mode='1')\n",
    "\n",
    "size=64\n",
    "r = bw.resize((size, size), Image.ANTIALIAS)\n",
    "\n",
    "homer = 2*np.bitwise_not(np.array(r)) - 1\n",
    "\n",
    "plt.imshow(homer, cmap='Greys');"
   ]
  },
  {
   "cell_type": "code",
   "execution_count": 49,
   "metadata": {},
   "outputs": [
    {
     "data": {
      "text/plain": [
       "(-1, 1)"
      ]
     },
     "execution_count": 49,
     "metadata": {},
     "output_type": "execute_result"
    }
   ],
   "source": [
    "homer.min(), homer.max()"
   ]
  },
  {
   "cell_type": "code",
   "execution_count": 50,
   "metadata": {},
   "outputs": [
    {
     "data": {
      "text/plain": [
       "(64, 64)"
      ]
     },
     "execution_count": 50,
     "metadata": {},
     "output_type": "execute_result"
    }
   ],
   "source": [
    "homer.shape"
   ]
  },
  {
   "cell_type": "markdown",
   "metadata": {},
   "source": [
    "Encode Homer as a vector $x$ in the interaction strengths of the spins $W$."
   ]
  },
  {
   "cell_type": "code",
   "execution_count": 21,
   "metadata": {},
   "outputs": [],
   "source": [
    "homer_vec = homer.reshape((size*size, 1))"
   ]
  },
  {
   "cell_type": "code",
   "execution_count": 22,
   "metadata": {},
   "outputs": [],
   "source": [
    "W = homer_vec.dot(homer_vec.transpose())"
   ]
  },
  {
   "cell_type": "markdown",
   "metadata": {},
   "source": [
    "Now take an initial state $\\xi$ as some corrupted image of Homer (we could start with any vector because $x$ will turn out to be a global attractor)."
   ]
  },
  {
   "cell_type": "code",
   "execution_count": 32,
   "metadata": {},
   "outputs": [],
   "source": [
    "initial_state = homer_vec.copy()\n",
    "initial_state[int(size*size/2):] = 1"
   ]
  },
  {
   "cell_type": "code",
   "execution_count": 33,
   "metadata": {},
   "outputs": [
    {
     "data": {
      "text/plain": [
       "<matplotlib.image.AxesImage at 0x7f9f7cea71f0>"
      ]
     },
     "execution_count": 33,
     "metadata": {},
     "output_type": "execute_result"
    },
    {
     "data": {
      "image/png": "[encoded data removed]",
      "text/plain": [
       "<Figure size 432x288 with 1 Axes>"
      ]
     },
     "metadata": {
      "needs_background": "light"
     },
     "output_type": "display_data"
    }
   ],
   "source": [
    "plt.imshow(initial_state.reshape((size, size)), cmap='Greys')"
   ]
  },
  {
   "cell_type": "markdown",
   "metadata": {},
   "source": [
    "We can evolve the image in one shot to the system equilibrium."
   ]
  },
  {
   "cell_type": "code",
   "execution_count": 42,
   "metadata": {},
   "outputs": [],
   "source": [
    "final_state = np.sign(W.dot(initial_state))"
   ]
  },
  {
   "cell_type": "code",
   "execution_count": 44,
   "metadata": {},
   "outputs": [
    {
     "data": {
      "image/png": "[encoded data removed]",
      "text/plain": [
       "<Figure size 432x288 with 1 Axes>"
      ]
     },
     "metadata": {
      "needs_background": "light"
     },
     "output_type": "display_data"
    }
   ],
   "source": [
    "plt.imshow(final_state.reshape((size,size)), cmap='Greys');"
   ]
  },
  {
   "cell_type": "markdown",
   "metadata": {},
   "source": [
    "We got the same image."
   ]
  },
  {
   "cell_type": "markdown",
   "metadata": {},
   "source": [
    "## Hopfield network on multiple images\n",
    "\n",
    "Things get interesting if we want to encode $N$ images."
   ]
  },
  {
   "cell_type": "code",
   "execution_count": 45,
   "metadata": {},
   "outputs": [],
   "source": [
    "from pathlib import Path"
   ]
  },
  {
   "cell_type": "code",
   "execution_count": 46,
   "metadata": {},
   "outputs": [],
   "source": [
    "simpsons = list(Path('../resources/simpsons/').glob('*'))\n",
    "simpsons = {f.stem: f for f in simpsons}"
   ]
  },
  {
   "cell_type": "code",
   "execution_count": 47,
   "metadata": {},
   "outputs": [
    {
     "data": {
      "text/plain": [
       "{'bart': PosixPath('../resources/simpsons/bart.jpg'),\n",
       " 'homer': PosixPath('../resources/simpsons/homer.jpg'),\n",
       " 'lisa': PosixPath('../resources/simpsons/lisa.jpg'),\n",
       " 'marge': PosixPath('../resources/simpsons/marge.jpg')}"
      ]
     },
     "execution_count": 47,
     "metadata": {},
     "output_type": "execute_result"
    }
   ],
   "source": [
    "simpsons"
   ]
  },
  {
   "cell_type": "code",
   "execution_count": 51,
   "metadata": {},
   "outputs": [],
   "source": [
    "def threshold_square_vectorize(file, thresh, size):\n",
    "    img = Image.open(file)\n",
    "    fn = lambda x : 255 if x > thresh else 0\n",
    "    bw = img.convert('L').point(fn, mode='1')\n",
    "    r = bw.resize((size, size), Image.ANTIALIAS)\n",
    "    return 2*np.bitwise_not(np.array(r)) - 1\n"
   ]
  },
  {
   "cell_type": "code",
   "execution_count": 54,
   "metadata": {},
   "outputs": [
    {
     "data": {
      "image/png": "[encoded data removed]",
      "text/plain": [
       "<Figure size 720x720 with 4 Axes>"
      ]
     },
     "metadata": {
      "needs_background": "light"
     },
     "output_type": "display_data"
    }
   ],
   "source": [
    "thresh = {'bart': 200, 'homer': 118, 'lisa': 200, 'marge': 170}\n",
    "state_vectors = {}\n",
    "size = 64\n",
    "\n",
    "fig, axs = plt.subplots(2, 2, figsize=(10,10))\n",
    "axs = axs.ravel()\n",
    "\n",
    "for i, simpson in enumerate(simpsons):\n",
    "    v = threshold_square_vectorize(simpsons[simpson], thresh[simpson], size)\n",
    "    state_vectors[simpson] = v.reshape((size*size, 1))\n",
    "    \n",
    "    ax = axs[i]\n",
    "    ax.imshow(v, cmap='Greys')"
   ]
  },
  {
   "cell_type": "code",
   "execution_count": 60,
   "metadata": {},
   "outputs": [],
   "source": [
    "def compute_interaction_weights(state_vectors):\n",
    "    size = state_vectors[0].shape[0]\n",
    "    W = np.zeros((size,size), dtype=np.int)\n",
    "    for xi in state_vectors:\n",
    "        W += xi.dot(xi.transpose())\n",
    "    return W"
   ]
  },
  {
   "cell_type": "code",
   "execution_count": 68,
   "metadata": {},
   "outputs": [],
   "source": [
    "def plot_img_vec(vec, size):\n",
    "    plt.imshow(vec.reshape((size,size)), cmap='Greys');"
   ]
  },
  {
   "cell_type": "code",
   "execution_count": 69,
   "metadata": {},
   "outputs": [],
   "source": [
    "def update_state_from_interactions(state, W):\n",
    "    return np.sign(W.dot(state))"
   ]
  },
  {
   "cell_type": "code",
   "execution_count": 90,
   "metadata": {},
   "outputs": [],
   "source": [
    "W_all = compute_interaction_weights([state_vectors['homer'], state_vectors['lisa'], state_vectors['lisa']])"
   ]
  },
  {
   "cell_type": "code",
   "execution_count": 91,
   "metadata": {},
   "outputs": [],
   "source": [
    "final_state = update_state_from_interactions(initial_state, W_all)"
   ]
  },
  {
   "cell_type": "code",
   "execution_count": 92,
   "metadata": {},
   "outputs": [
    {
     "data": {
      "image/png": "[encoded data removed]",
      "text/plain": [
       "<Figure size 432x288 with 1 Axes>"
      ]
     },
     "metadata": {
      "needs_background": "light"
     },
     "output_type": "display_data"
    }
   ],
   "source": [
    "plot_img_vec(initial_state, size)"
   ]
  },
  {
   "cell_type": "code",
   "execution_count": 93,
   "metadata": {},
   "outputs": [
    {
     "data": {
      "image/png": "[encoded data removed]",
      "text/plain": [
       "<Figure size 432x288 with 1 Axes>"
      ]
     },
     "metadata": {
      "needs_background": "light"
     },
     "output_type": "display_data"
    }
   ],
   "source": [
    "plot_img_vec(final_state, size)"
   ]
  },
  {
   "cell_type": "markdown",
   "metadata": {},
   "source": [
    "Retrieval is no longer perfect."
   ]
  },
  {
   "cell_type": "code",
   "execution_count": 94,
   "metadata": {},
   "outputs": [],
   "source": [
    "W_all = compute_interaction_weights([state_vectors['homer'], state_vectors['homer'], state_vectors['lisa']])"
   ]
  },
  {
   "cell_type": "code",
   "execution_count": 95,
   "metadata": {},
   "outputs": [],
   "source": [
    "final_state = update_state_from_interactions(initial_state, W_all)"
   ]
  },
  {
   "cell_type": "code",
   "execution_count": 96,
   "metadata": {},
   "outputs": [
    {
     "data": {
      "image/png": "[encoded data removed]",
      "text/plain": [
       "<Figure size 432x288 with 1 Axes>"
      ]
     },
     "metadata": {
      "needs_background": "light"
     },
     "output_type": "display_data"
    }
   ],
   "source": [
    "plot_img_vec(final_state, size)"
   ]
  },
  {
   "cell_type": "markdown",
   "metadata": {},
   "source": [
    "But if we encode the system more heavily with Homer, we still get Homer back."
   ]
  },
  {
   "cell_type": "code",
   "execution_count": null,
   "metadata": {},
   "outputs": [],
   "source": []
  }
 ],
 "metadata": {
  "kernelspec": {
   "display_name": "Python 3",
   "language": "python",
   "name": "python3"
  },
  "language_info": {
   "codemirror_mode": {
    "name": "ipython",
    "version": 3
   },
   "file_extension": ".py",
   "mimetype": "text/x-python",
   "name": "python",
   "nbconvert_exporter": "python",
   "pygments_lexer": "ipython3",
   "version": "3.8.5"
  }
 },
 "nbformat": 4,
 "nbformat_minor": 4
}
